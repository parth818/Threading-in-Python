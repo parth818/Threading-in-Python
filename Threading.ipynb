{
 "cells": [
  {
   "cell_type": "markdown",
   "id": "inappropriate-lightweight",
   "metadata": {},
   "source": [
    "<h1 style=\"text-align: justify;\"><span style=\"color: #ffff00; background-color: #000000;\"><strong>Thread and Multithreading</strong></span></h1>\n",
    "<p style=\"text-align: justify;\"><span style=\"color: #000000;\"><strong>Thread</strong>&nbsp;is an execution unit that consists of its own program counter, a stack, and a set of registers where the program counter mainly</a> keeps track of which instruction to execute next, a set of registers mainly hold its current working variables, and a stack mainly contains the history of execution</span></p>\n",
    "<p style=\"text-align: justify;\"><span style=\"color: #000000;\">Threads are also known as Lightweight processes. Threads are a popular way to improve the performance of an application through parallelism. Threads are mainly used to represent a software approach in order to improve the performance of an operating system just by reducing the overhead thread that is mainly equivalent to a classical process. The CPU switches rapidly back and forth among the threads giving the illusion that the threads are running in parallel. A process can contain multiple threads.</span></p>\n",
    "<p style=\"text-align: justify;\"><span style=\"color: #000000;\"><strong>Multithreading</strong> is a feature that allows concurrent execution of two or more parts of a program for maximum utilization of CPU. Each part of such program is called a thread. So, threads are light-weight processes within a process.</span></p>"
   ]
  },
  {
   "cell_type": "markdown",
   "id": "objective-psychiatry",
   "metadata": {},
   "source": [
    "##### Importing required libraries"
   ]
  },
  {
   "cell_type": "code",
   "execution_count": 1,
   "id": "adaptive-cuisine",
   "metadata": {},
   "outputs": [],
   "source": [
    "import time\n",
    "import pandas as pd\n",
    "import matplotlib.pyplot as plt\n",
    "import sys\n",
    "import os\n",
    "import random as r\n",
    "import string as s\n",
    "import shutil\n",
    "import threading\n",
    "import numpy as np\n",
    "\n",
    "r.seed(16)"
   ]
  },
  {
   "cell_type": "markdown",
   "id": "endangered-advocate",
   "metadata": {},
   "source": [
    "##### Define number of files, number of characters in each line, number of lines in each file, and the directory to store files and their correponding output files"
   ]
  },
  {
   "cell_type": "code",
   "execution_count": 2,
   "id": "willing-division",
   "metadata": {},
   "outputs": [],
   "source": [
    "N = 500\n",
    "K = 20\n",
    "L = 100\n",
    "Directory = \"Test\""
   ]
  },
  {
   "cell_type": "markdown",
   "id": "short-series",
   "metadata": {},
   "source": [
    "##### Creating directory to store files"
   ]
  },
  {
   "cell_type": "code",
   "execution_count": 3,
   "id": "accredited-theater",
   "metadata": {
    "scrolled": true
   },
   "outputs": [
    {
     "name": "stdout",
     "output_type": "stream",
     "text": [
      "Current working directory :  E:\\Projects\\Python\\Threading\\Test\n"
     ]
    }
   ],
   "source": [
    "os.makedirs(Directory)\n",
    "os.chdir(Directory)\n",
    "print('Current working directory : ', os.getcwd())"
   ]
  },
  {
   "cell_type": "markdown",
   "id": "structured-rotation",
   "metadata": {},
   "source": [
    "##### Creating a file with given 'L' number of lines with each line consisting of 'K' random characters (lowercase letters and digits)"
   ]
  },
  {
   "cell_type": "code",
   "execution_count": 4,
   "id": "color-adapter",
   "metadata": {},
   "outputs": [],
   "source": [
    "with open('file1.txt', 'w') as file:\n",
    "    for i in range(L + 1):\n",
    "        file.write(str(''.join(r.choices(s.ascii_lowercase + s.digits, k=K))) + '\\n')"
   ]
  },
  {
   "cell_type": "markdown",
   "id": "overall-schema",
   "metadata": {},
   "source": [
    "##### Copying the same file in the same directory with different names 'N-1' times "
   ]
  },
  {
   "cell_type": "code",
   "execution_count": 5,
   "id": "nonprofit-subdivision",
   "metadata": {
    "scrolled": true
   },
   "outputs": [
    {
     "name": "stdout",
     "output_type": "stream",
     "text": [
      "500  files created\n"
     ]
    }
   ],
   "source": [
    "for i in range(2, N + 1):\n",
    "    _ = shutil.copyfile('file1.txt', 'file' + str(i) + '.txt')\n",
    "\n",
    "print(N, ' files created')"
   ]
  },
  {
   "cell_type": "markdown",
   "id": "white-swedish",
   "metadata": {},
   "source": [
    "##### Function to convert given number of files to UPPERCASE, and storing the result"
   ]
  },
  {
   "cell_type": "code",
   "execution_count": 6,
   "id": "invalid-validation",
   "metadata": {},
   "outputs": [],
   "source": [
    "def Convert(n1, n2, name):\n",
    "    \n",
    "    #creating a directory to store output files\n",
    "    \n",
    "    os.makedirs('outputs_' + str(name))\n",
    " \n",
    "    #converting each file to UPPERCASE, and storing converted text in a separate file specified by 'name' argument.\n",
    "\n",
    "    for j in range(n1, n2 + 1):\n",
    "        try:\n",
    "            with open(r'file' + str(j) + '.txt', 'r') as file, open(r'outputs_' + str(name) + '/file' + str(j) + '_output.txt', 'w') as file_up:\n",
    "                text = file.read()\n",
    "                text = text.upper()\n",
    "                file_up.write(text.upper())\n",
    "        except:\n",
    "            print(\"Error! file not found, exiting\")\n",
    "            exit(0)\n",
    "            \n",
    "    #time for converting text to UPPERCASE depends on the processor"
   ]
  },
  {
   "cell_type": "markdown",
   "id": "attempted-greenhouse",
   "metadata": {},
   "source": [
    "##### Dictionary to store time taken by varying number of threads"
   ]
  },
  {
   "cell_type": "code",
   "execution_count": 7,
   "id": "legislative-vacuum",
   "metadata": {},
   "outputs": [],
   "source": [
    "Time = {}"
   ]
  },
  {
   "cell_type": "markdown",
   "id": "talented-passenger",
   "metadata": {},
   "source": [
    "##### Calculating time required to convert text files to UPPERCASE by varying number of threads from 1 to 10 "
   ]
  },
  {
   "cell_type": "code",
   "execution_count": 8,
   "id": "acquired-scene",
   "metadata": {},
   "outputs": [
    {
     "name": "stdout",
     "output_type": "stream",
     "text": [
      "Number of Threads :  1 ---->\n",
      "Execution Time :  0.6181409358978271\n",
      "\n",
      "------------------------------\n",
      "\n",
      "Number of Threads :  2 ---->\n",
      "Execution Time :  0.4397883415222168\n",
      "\n",
      "------------------------------\n",
      "\n",
      "Number of Threads :  3 ---->\n",
      "Execution Time :  0.30426836013793945\n",
      "\n",
      "------------------------------\n",
      "\n",
      "Number of Threads :  4 ---->\n",
      "Execution Time :  0.23186922073364258\n",
      "\n",
      "------------------------------\n",
      "\n",
      "Number of Threads :  5 ---->\n",
      "Execution Time :  0.23186755180358887\n",
      "\n",
      "------------------------------\n",
      "\n",
      "Number of Threads :  6 ---->\n",
      "Execution Time :  0.2535843849182129\n",
      "\n",
      "------------------------------\n",
      "\n",
      "Number of Threads :  7 ---->\n",
      "Execution Time :  0.24339747428894043\n",
      "\n",
      "------------------------------\n",
      "\n",
      "Number of Threads :  8 ---->\n",
      "Execution Time :  0.23105382919311523\n",
      "\n",
      "------------------------------\n",
      "\n",
      "Number of Threads :  9 ---->\n",
      "Execution Time :  0.2678945064544678\n",
      "\n",
      "------------------------------\n",
      "\n",
      "Number of Threads :  10 ---->\n",
      "Execution Time :  0.9246006011962891\n",
      "\n",
      "------------------------------\n",
      "\n"
     ]
    }
   ],
   "source": [
    "for i in range(1, 11):\n",
    "    print('Number of Threads : ', i, '---->')\n",
    "    L = []\n",
    "    start = 1\n",
    "    for j in range(1, i):\n",
    "        L.append(threading.Thread(target = Convert, args = (start, start + int(N/i) - 1, str(i)+'_'+str(j))))\n",
    "        start+= int(N/i)\n",
    "    L.append(threading.Thread(target = Convert, args = (start, N, str(i)+'_'+str(i))))\n",
    "    tic = time.time()\n",
    "    for j in L:\n",
    "        j.start()\n",
    "    for j in L:\n",
    "        j.join()\n",
    "    toc = time.time()\n",
    "    print(\"Execution Time : \", toc-tic)\n",
    "    Time[str(i)] = float(toc-tic)\n",
    "    print('\\n------------------------------\\n')"
   ]
  },
  {
   "cell_type": "markdown",
   "id": "decimal-position",
   "metadata": {},
   "source": [
    "##### Time Taken vs Number of Threads Plot"
   ]
  },
  {
   "cell_type": "code",
   "execution_count": 9,
   "id": "previous-athens",
   "metadata": {
    "scrolled": true
   },
   "outputs": [
    {
     "data": {
      "image/png": "[encoded data removed]",
      "text/plain": [
       "<Figure size 720x720 with 1 Axes>"
      ]
     },
     "metadata": {
      "needs_background": "light"
     },
     "output_type": "display_data"
    }
   ],
   "source": [
    "x = [float(i) for i in Time.keys()]\n",
    "y = [float(i)*1000 for i in Time.values()]\n",
    "\n",
    "plt.figure(figsize=(10,10))\n",
    "plt.scatter(x, y)\n",
    "plt.title(\"Time Taken vs Number of Threads\", fontsize=15)\n",
    "plt.xlabel(\"Number of Threads\", fontsize=15)\n",
    "plt.ylabel(\"Time Taken (in MS)\", fontsize=15)\n",
    "plt.grid()\n",
    "\n",
    "plt.show()"
   ]
  },
  {
   "cell_type": "markdown",
   "id": "needed-thing",
   "metadata": {},
   "source": [
    "##### Plotting corresponding quadratic regression equation to analyse the trend"
   ]
  },
  {
   "cell_type": "code",
   "execution_count": 10,
   "id": "palestinian-shelf",
   "metadata": {
    "scrolled": true
   },
   "outputs": [
    {
     "data": {
      "image/png": "[encoded data removed]",
      "text/plain": [
       "<Figure size 720x720 with 1 Axes>"
      ]
     },
     "metadata": {
      "needs_background": "light"
     },
     "output_type": "display_data"
    }
   ],
   "source": [
    "Model = np.poly1d(np.polyfit(x, y, 2))\n",
    "\n",
    "x_ = np.linspace(1, 10, 1000)\n",
    "y_ = Model(x_)\n",
    "\n",
    "plt.figure(figsize=(10,10))\n",
    "plt.plot(x, y)\n",
    "plt.title(\"Time Taken vs Number of Threads\", fontsize=15)\n",
    "plt.xlabel(\"Number of Threads\", fontsize=15)\n",
    "plt.ylabel(\"Time Taken (in MS)\", fontsize=15)\n",
    "plt.plot(x_, y_, linestyle='dashed')\n",
    "plt.grid()\n",
    "plt.legend(['Actual', 'Regression Analysis'], fontsize = 15)\n",
    "\n",
    "plt.show()"
   ]
  },
  {
   "cell_type": "markdown",
   "id": "moderate-receiver",
   "metadata": {},
   "source": [
    "<h1 style=\"text-align: justify;\"><span style=\"color: #ffff00; background-color: #000000;\"><strong>Conclusion</strong></span></h1>\n",
    "<p style=\"text-align: justify;\">It can be observed that the time taken w.r.t. number of threads varies as a parabolic curve. Time Taken decreases upto a certain amount (optimal amount of threads), and then increases again due to the fact of <strong>context switching </strong>of more number of threads.</p>"
   ]
  }
 ],
 "metadata": {
  "kernelspec": {
   "display_name": "Python 3",
   "language": "python",
   "name": "python3"
  },
  "language_info": {
   "codemirror_mode": {
    "name": "ipython",
    "version": 3
   },
   "file_extension": ".py",
   "mimetype": "text/x-python",
   "name": "python",
   "nbconvert_exporter": "python",
   "pygments_lexer": "ipython3",
   "version": "3.9.1"
  }
 },
 "nbformat": 4,
 "nbformat_minor": 5
}
